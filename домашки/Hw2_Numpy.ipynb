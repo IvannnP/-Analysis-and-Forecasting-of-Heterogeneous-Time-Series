{
 "cells": [
  {
   "cell_type": "markdown",
   "metadata": {
    "id": "JV_DFHwgFLxt"
   },
   "source": [
    "# Анализ и прогнозирование неоднородных временных рядов, БИ\n",
    "\n",
    "## НИУ ВШЭ, 2022-23 учебный год"
   ]
  },
  {
   "cell_type": "markdown",
   "metadata": {
    "id": "fdTH3pxXFLxw"
   },
   "source": [
    "### Домашнее задание №2. Библиотека Numpy"
   ]
  },
  {
   "cell_type": "markdown",
   "metadata": {
    "id": "Sk5URBvkFLxx"
   },
   "source": [
    "Задание выполнил(а): Иван Павлович"
   ]
  },
  {
   "cell_type": "markdown",
   "metadata": {
    "id": "kqVyveO4FLxx"
   },
   "source": [
    "### Общая информация"
   ]
  },
  {
   "cell_type": "markdown",
   "metadata": {
    "id": "2A0wmBWwFLxx"
   },
   "source": [
    "__Дата выдачи:__ 09.11.2022\n",
    "\n",
    "__Дедлайн:__ 04:00 20.11.2022"
   ]
  },
  {
   "cell_type": "markdown",
   "metadata": {
    "id": "qK8Ari9eFLxz"
   },
   "source": [
    "### Оценивание и штрафы\n",
    "\n",
    "Каждая задача оценивается в 2 балла.\n",
    "\n",
    "Оценка за ДЗ вычисляется по следующей формуле:\n",
    "\n",
    "$$\n",
    "s_{\\text{numpy}} \\times 1/2 ,\n",
    "$$\n",
    "\n",
    "где $s_{\\text{numpy}}$  — количество баллов, которое вы набрали в сумме по задачам.\n",
    "\n",
    "За сдачу задания позже срока на итоговую оценку за задание накладывается штраф в размере 1 балл в день, но  задержка не может быть больше недели."
   ]
  },
  {
   "cell_type": "markdown",
   "metadata": {
    "id": "nEGThfK6FLx0"
   },
   "source": [
    "__Внимание!__ Домашнее задание выполняется самостоятельно. «Похожие» решения считаются плагиатом и все задействованные студенты (в том числе те, у кого списали) не могут получить за него больше 0 баллов."
   ]
  },
  {
   "cell_type": "markdown",
   "metadata": {
    "id": "zNja-u8vFLx0"
   },
   "source": [
    "### Формат сдачи"
   ]
  },
  {
   "cell_type": "markdown",
   "metadata": {
    "id": "_H-cf8uaFLx0"
   },
   "source": [
    "Будет объявлен ближе к дедлайну в канале"
   ]
  },
  {
   "cell_type": "markdown",
   "metadata": {
    "id": "TEVawss2FLxy"
   },
   "source": [
    "### О задании"
   ]
  },
  {
   "cell_type": "markdown",
   "metadata": {
    "id": "NXNpYAFdFLxz"
   },
   "source": [
    "В данном домашнем задании вы попрактикуетесь в работе с библиотекой numpy!"
   ]
  },
  {
   "cell_type": "code",
   "execution_count": 30,
   "metadata": {
    "id": "4gsWSgTIFLx1"
   },
   "outputs": [],
   "source": [
    "import numpy as np"
   ]
  },
  {
   "cell_type": "markdown",
   "metadata": {
    "id": "ApiPWJygFLx2"
   },
   "source": [
    "Во всех задачах необходимо написать код решения внутри функции и проверить его работу, вызвав функцию для данных из условия.\n",
    "\n",
    "При решении задач запрещается использовать циклы (`for`, `while`) и оператор `if`.\n",
    "\n",
    "Везде, где встречаются массивы или матрицы, подразумевается, что это `numpy.array`. "
   ]
  },
  {
   "cell_type": "markdown",
   "metadata": {
    "id": "8fc_z7yNFLx2"
   },
   "source": [
    "### 1"
   ]
  },
  {
   "cell_type": "markdown",
   "metadata": {
    "id": "ETNlMgiZFLx3"
   },
   "source": [
    "Напишите функцию, возвращающую округленную взвешенную сумму оценок по данным оценкам и весам. Можете посчитать свою оценку за курс :) В нашем случае вес экзамена равен 0.35, вес домашек - 0.4, вес проекта - 0.15, вес аудиторки - 0.1. Например, если экзамен написан на 6, домашки сданы на 9, проект закрыт на 8, а оценка за аудиторку 7 - итоговая оценка будет отлично - 8 "
   ]
  },
  {
   "cell_type": "code",
   "execution_count": 4,
   "metadata": {
    "id": "VDEhJbQ-FLx3"
   },
   "outputs": [],
   "source": [
    "def result_mark(weights, marks):\n",
    "     print(np.sum(weights * marks))"
   ]
  },
  {
   "cell_type": "code",
   "execution_count": 5,
   "metadata": {
    "id": "NcaSNNLNFLx3"
   },
   "outputs": [
    {
     "name": "stdout",
     "output_type": "stream",
     "text": [
      "7.6\n"
     ]
    }
   ],
   "source": [
    "weights = np.array([0.35, 0.4, 0.15, 0.1])\n",
    "marks = np.array([6, 9, 8, 7])\n",
    "result_mark(weights, marks)"
   ]
  },
  {
   "cell_type": "markdown",
   "metadata": {
    "id": "J0V1vikQFLx3"
   },
   "source": [
    "### 2"
   ]
  },
  {
   "cell_type": "markdown",
   "metadata": {
    "id": "-7GYYXZ-FLx4"
   },
   "source": [
    "Напишите функцию, меняющую каждое третье (начиная с 0) значение массива целых чисел на заданное число. Например, если на вход поступает массив `array([3, 5, 1, 0, -3, 22, 213436])` и число `-111`, то на выходе должен получиться массив `array([-111, 5, 1, -111, -3, 22, -111])`."
   ]
  },
  {
   "cell_type": "code",
   "execution_count": 41,
   "metadata": {
    "id": "bCl2jHbqFLx4"
   },
   "outputs": [],
   "source": [
    "def change_array(array, number):\n",
    "    array[::3] = number\n",
    "    print(array)\n",
    "    \n",
    "    #or\n",
    "        #for i in range(0,len(array)):\n",
    "            #if i % 3 == 0:\n",
    "                #array[i] = number\n",
    "\n",
    "        #print(array)"
   ]
  },
  {
   "cell_type": "code",
   "execution_count": 42,
   "metadata": {
    "id": "Gpq8NhDLFLx4"
   },
   "outputs": [
    {
     "name": "stdout",
     "output_type": "stream",
     "text": [
      "[-111    5    1 -111   -3   22 -111]\n"
     ]
    }
   ],
   "source": [
    "array = np.array([3, 5, 1, 0, -3, 22, 213436])\n",
    "number = -111\n",
    "change_array(array, number)"
   ]
  },
  {
   "cell_type": "markdown",
   "metadata": {
    "id": "Sal1bM6RFLx4"
   },
   "source": [
    "### 3"
   ]
  },
  {
   "cell_type": "markdown",
   "metadata": {
    "id": "au8Az2JjFLx5"
   },
   "source": [
    "Напишите функцию, выдающую индексы «близких» элементов заданных массивов, а именно тех пар элементов, чей модуль разницы не превосходит заданного значения. Например, если на вход поступают массив `array([1.5, 0.5, 2, -4.1, -3, 6, -1])`, массив `array([1.2, 0.5, 1, -4, 3, 0, -1.2])` и число `0.5`, то на выходе должен получиться массив `array([0, 1, 3, 6])` (_**важно: не `tuple`, а одномерный массив типа `numpy.ndarray` (то есть `.ndim` от него равно 1)!**_)."
   ]
  },
  {
   "cell_type": "code",
   "execution_count": 83,
   "metadata": {
    "id": "WacJagotFLx5"
   },
   "outputs": [],
   "source": [
    "def find_close(array1, array2, precision):\n",
    "    c = np.arange(array1.size) # массив с индексами\n",
    "    print(c[abs(array2-array1)<=precision]) "
   ]
  },
  {
   "cell_type": "markdown",
   "metadata": {
    "collapsed": true,
    "id": "zFLktJlAFLx5"
   },
   "source": [
    "array1 = np.array([1.5, 0.5, 2, -4.1, -3, 6, -1])\n",
    "array2 = np.array([1.2, 0.5, 1, -4, 3, 0, -1.2])\n",
    "precision = 0.5\n",
    "find_close(array1, array2, precision)"
   ]
  },
  {
   "cell_type": "markdown",
   "metadata": {
    "id": "vIuNrOzMFLx6"
   },
   "source": [
    "### 4"
   ]
  },
  {
   "cell_type": "markdown",
   "metadata": {
    "id": "ygLvIXXaFLx6"
   },
   "source": [
    "Напишите функцию, которая составляет блочную матрицу из четырех блоков, где каждый блок - это заданная матрица. Например, если на вход поступает матрица\n",
    "$$\n",
    "\\begin{pmatrix}\n",
    "0 & 1 & 2\\\\\n",
    "3 & 4 & 5\\\\\n",
    "\\end{pmatrix},\n",
    "$$\n",
    "то ответом будет матрица\n",
    "$$\n",
    "\\begin{pmatrix}\n",
    "0 & 1 & 2 & 0 & 1 & 2\\\\\n",
    "3 & 4 & 5 & 3 & 4 & 5\\\\\n",
    "0 & 1 & 2 & 0 & 1 & 2\\\\\n",
    "3 & 4 & 5 & 3 & 4 & 5\\\\\n",
    "\\end{pmatrix}\n",
    "$$"
   ]
  },
  {
   "cell_type": "code",
   "execution_count": 12,
   "metadata": {
    "id": "3ZSvD5CbFLx6"
   },
   "outputs": [],
   "source": [
    "def block_matrix(block):\n",
    "    block = np.concatenate([block,block],axis=1) #https://numpy.org/doc/stable/reference/generated/numpy.concatenate.html\n",
    "    block = np.concatenate([block, block], axis=0)\n",
    "    print(block)"
   ]
  },
  {
   "cell_type": "code",
   "execution_count": 13,
   "metadata": {
    "id": "x2zSnETKFLx6"
   },
   "outputs": [
    {
     "name": "stdout",
     "output_type": "stream",
     "text": [
      "[[0 1 2 3 0 1 2 3]\n",
      " [3 4 5 7 3 4 5 7]\n",
      " [0 1 2 3 0 1 2 3]\n",
      " [3 4 5 7 3 4 5 7]]\n"
     ]
    }
   ],
   "source": [
    "block = np.array([[0, 1, 2], [3, 4, 5]])\n",
    "block_matrix(block)"
   ]
  },
  {
   "cell_type": "markdown",
   "metadata": {
    "id": "4Bjhe8y1FLx7"
   },
   "source": [
    "### 5"
   ]
  },
  {
   "cell_type": "markdown",
   "metadata": {
    "id": "-U82db8IFLx7"
   },
   "source": [
    "Напишите функцию, вычисляющую произведение всех ненулевых диагональных элементов на диагонали данной квадратной матрицы. Например, если на вход поступает матрица\n",
    "$$\n",
    "\\begin{pmatrix}\n",
    "0 & 1 & 2\\\\\n",
    "3 & 4 & 5\\\\\n",
    "6 & 7 & 8\\\\\n",
    "\\end{pmatrix},\n",
    "$$\n",
    "то ответом будет 32."
   ]
  },
  {
   "cell_type": "code",
   "execution_count": 39,
   "metadata": {
    "id": "KXSqcJtDFLx7",
    "scrolled": true
   },
   "outputs": [],
   "source": [
    "def diag_prod(matrix):\n",
    "    \n",
    "    d = np.diagonal(matrix)       #https://pyprog.pro/indexing_routines/diagonal.html\n",
    "    print(np.delete(d,0).prod())     #https://pyprog.pro/array_manipulation/delete.html\n",
    "    \n",
    "#or\n",
    "# i = 0\n",
    "# j = 0\n",
    "# (a,b) = np.shape(matrix)\n",
    "# for i in range(a-1):\n",
    "# for j in range(b-1):\n",
    "# sum = matrix[i,j] * matrix[i+1,j+1]\n",
    "# print(sum)"
   ]
  },
  {
   "cell_type": "code",
   "execution_count": 40,
   "metadata": {
    "id": "tVMMGkuwFLx7",
    "scrolled": true
   },
   "outputs": [
    {
     "name": "stdout",
     "output_type": "stream",
     "text": [
      "32\n"
     ]
    }
   ],
   "source": [
    "matrix = np.array([[0, 1, 2], [3, 4, 5], [6, 7, 8]])\n",
    "diag_prod(matrix)"
   ]
  },
  {
   "cell_type": "markdown",
   "metadata": {
    "id": "N4x5oKBqFLx8"
   },
   "source": [
    "### 6"
   ]
  },
  {
   "cell_type": "markdown",
   "metadata": {
    "id": "X_KxN00rFLx8"
   },
   "source": [
    "Для улучшения качества работы некоторых алгоритмов машинного обучения может быть полезно использовать [нормализацию данных](https://vk.cc/8xmfQk), чтобы привести признаки в выборке к одному масштабу — а именно, из каждого столбца вычесть среднее его значений и поделить на их стандартное отклонение. Напишите функцию, нормализующую входящую матрицу (по столбцам). Например, если на вход подается матрица \n",
    "$$\n",
    "\\begin{pmatrix}\n",
    "1 & 4 & 4200\\\\\n",
    "0 & 10 & 5000\\\\\n",
    "1 & 2 & 1000\\\\\n",
    "\\end{pmatrix},\n",
    "$$\n",
    "то результатом с точностью до сотых будет матрица\n",
    "$$\n",
    "\\begin{pmatrix}\n",
    "0.71 & -0.39 & 0.46\\\\\n",
    "-1.41 & 1.37 & 0.93\\\\\n",
    "0.71 & -0.98 & -1.39\\\\\n",
    "\\end{pmatrix}\n",
    "$$\n",
    "\n",
    "_Подсказка. Учтите, что в вашей матрице не должно получаться никаких nan. Подумайте, в каком случае они могут возникнуть и как обойти эту проблему._\n"
   ]
  },
  {
   "cell_type": "code",
   "execution_count": 86,
   "metadata": {
    "id": "8-1UM3LqFLx8"
   },
   "outputs": [],
   "source": [
    "def normalize(matrix):\n",
    "    av = np.mean(matrix, axis=0)  # среднне для столбцов https://pyprog.pro/statistics_functions/mean.html\n",
    "    dd = np.std(matrix,axis=0)  # среднее отклонение для столбцов https://tonais.ru/library/funktsiya-numpy-std-v-python\\\n",
    "\n",
    "\n",
    "    # axis=0 для столцов!!! axis=1 для строк (полчаса искал ошибку)\n",
    "\n",
    "    dd[dd == 0] = np.mean(dd)\n",
    "\n",
    "    # отколенение может быть нулевым => нужно расмотреть случай деления на ноль, и я не понял, как именно\n",
    "    # некоторые чуваки просто ставели в ответ ноль или делили на 1, но мне кажется резонно просто взять среднее отклонение\n",
    "    # это будет достоверней деления на 1 или просто нуля в ответе\n",
    "\n",
    "    print(np.around(np.divide(matrix - av, dd), decimals=2))"
   ]
  },
  {
   "cell_type": "code",
   "execution_count": 85,
   "metadata": {
    "id": "5s0nCZJNFLx8"
   },
   "outputs": [
    {
     "name": "stdout",
     "output_type": "stream",
     "text": [
      "[[ 0.71 -0.39  0.46]\n",
      " [-1.41  1.37  0.93]\n",
      " [ 0.71 -0.98 -1.39]]\n"
     ]
    }
   ],
   "source": [
    "matrix = np.array([[1, 4, 4200], [0, 10, 5000], [1, 2, 1000]])\n",
    "normalize(matrix)"
   ]
  },
  {
   "cell_type": "markdown",
   "metadata": {
    "id": "GGezY0NEFLx9"
   },
   "source": [
    "### 7"
   ]
  },
  {
   "cell_type": "markdown",
   "metadata": {
    "id": "yBWZF7a5FLx9"
   },
   "source": [
    "Напишите функцию, вычисляющую какую-нибудь первообразную данного полинома (в качестве константы возьмите ваше любимое число). Например, если на вход поступает массив коэффициентов `array([4, 6, 0, 1])`, что соответствует полиному $4x^3 + 6x^2 + 1$, на выходе получается массив коэффициентов `array([1, 2, 0, 1, -2])`, соответствующий полиному $x^4 + 2x^3 + x - 2$."
   ]
  },
  {
   "cell_type": "code",
   "execution_count": 16,
   "metadata": {
    "id": "IWU9ISN_FLx9"
   },
   "outputs": [],
   "source": [
    "def antiderivative(coefs):\n",
    "    print(np.polyint(coefs))  #https://runebook.dev/ru/docs/numpy/reference/generated/numpy.polyint"
   ]
  },
  {
   "cell_type": "code",
   "execution_count": 17,
   "metadata": {
    "id": "9G2gNNZxFLx9"
   },
   "outputs": [
    {
     "name": "stdout",
     "output_type": "stream",
     "text": [
      "[1. 2. 0. 1. 0.]\n"
     ]
    }
   ],
   "source": [
    "coefs = np.array([4, 6, 0, 1])\n",
    "antiderivative(coefs)"
   ]
  },
  {
   "cell_type": "markdown",
   "metadata": {
    "id": "6LtnZ4T1FLx9"
   },
   "source": [
    "### 8"
   ]
  },
  {
   "cell_type": "markdown",
   "metadata": {
    "id": "vGq8Aao0FLx-"
   },
   "source": [
    "Напишите функцию, делающую данную [треугольную матрицу](https://ru.wikipedia.org/wiki/%D0%A2%D1%80%D0%B5%D1%83%D0%B3%D0%BE%D0%BB%D1%8C%D0%BD%D0%B0%D1%8F_%D0%BC%D0%B0%D1%82%D1%80%D0%B8%D1%86%D0%B0) симметричной. Например, если на вход поступает матрица\n",
    "$$\n",
    "\\begin{pmatrix}\n",
    "1 & 2 & 3 & 4\\\\\n",
    "0 & 5 & 6 & 7\\\\\n",
    "0 & 0 & 8 & 9\\\\\n",
    "0 & 0 & 0 & 10\\\\\n",
    "\\end{pmatrix},\n",
    "$$\n",
    "то на выходе должна быть матрица\n",
    "$$\n",
    "\\begin{pmatrix}\n",
    "1 & 2 & 3 & 4\\\\\n",
    "2 & 5 & 6 & 7\\\\\n",
    "3 & 6 & 8 & 9\\\\\n",
    "4 & 7 & 9 & 10\\\\\n",
    "\\end{pmatrix}.\n",
    "$$"
   ]
  },
  {
   "cell_type": "code",
   "execution_count": 51,
   "metadata": {
    "id": "X9YCwhUxFLx-"
   },
   "outputs": [],
   "source": [
    "def make_symmetric(matrix):\n",
    "    switched = np.array(tuple(zip(*np.flip(matrix,axis=0 )[::-1]))) \n",
    "   \n",
    "   # https://numpy.org/doc/stable/reference/generated/numpy.flip.html\n",
    "   #https://ru.stackoverflow.com/questions/605620/Как-повернуть-матрицу-двумерный-массив-на-90-градусов-с-помощью-zip\n",
    "    i = 0\n",
    "    j = 0\n",
    "    (a,b) = np.shape(matrix)\n",
    "    for i in range(a):\n",
    "        for j in range(b):\n",
    "                 if i == j:\n",
    "                    matrix[i,j] = 0\n",
    "                    # хз, как цикл убрать :((\n",
    "    print(np.array(switched + matrix))\n"
   ]
  },
  {
   "cell_type": "code",
   "execution_count": 52,
   "metadata": {
    "id": "ShNVSsM-FLx-"
   },
   "outputs": [
    {
     "name": "stdout",
     "output_type": "stream",
     "text": [
      "[[ 1  2  3  4]\n",
      " [ 2  5  6  7]\n",
      " [ 3  6  8  9]\n",
      " [ 4  7  9 10]]\n"
     ]
    }
   ],
   "source": [
    "matrix = np.array([[1, 2, 3, 4], [0, 5, 6, 7], [0, 0, 8, 9], [0, 0, 0, 10]])\n",
    "make_symmetric(matrix)"
   ]
  },
  {
   "cell_type": "markdown",
   "metadata": {
    "id": "JV_y8k8rFLx-"
   },
   "source": [
    "### 9"
   ]
  },
  {
   "cell_type": "markdown",
   "metadata": {
    "id": "7pX12jtoFLx_"
   },
   "source": [
    "Напишите функцию, создающую прямоугольную матрицу из m одинаковых строк, заполненных последовательными натуральными числами от a до b включительно в возрастающем порядке. Например, если m = 5, a = 3, b = 10, то на выходе будет матрица\n",
    "$$\n",
    "\\begin{pmatrix}\n",
    "3 & 4 & 5 & 6 & 7 & 8 & 9 & 10\\\\\n",
    "3 & 4 & 5 & 6 & 7 & 8 & 9 & 10\\\\\n",
    "3 & 4 & 5 & 6 & 7 & 8 & 9 & 10\\\\\n",
    "3 & 4 & 5 & 6 & 7 & 8 & 9 & 10\\\\\n",
    "3 & 4 & 5 & 6 & 7 & 8 & 9 & 10\\\\\n",
    "\\end{pmatrix}\n",
    "$$"
   ]
  },
  {
   "cell_type": "code",
   "execution_count": 91,
   "metadata": {
    "id": "g2yZmQ4gFLx_"
   },
   "outputs": [],
   "source": [
    "def construct_matrix(m, a, b):\n",
    "    c = np.arange(a,b+1)\n",
    "    print(c*np.ones((m, b - a + 1), dtype=np.int16))"
   ]
  },
  {
   "cell_type": "code",
   "execution_count": 92,
   "metadata": {
    "id": "bsaKjkvOFLx_"
   },
   "outputs": [
    {
     "name": "stdout",
     "output_type": "stream",
     "text": [
      "[[ 3  4  5  6  7  8  9 10]\n",
      " [ 3  4  5  6  7  8  9 10]\n",
      " [ 3  4  5  6  7  8  9 10]\n",
      " [ 3  4  5  6  7  8  9 10]\n",
      " [ 3  4  5  6  7  8  9 10]]\n"
     ]
    }
   ],
   "source": [
    "m = 5\n",
    "a = 3\n",
    "b = 10\n",
    "construct_matrix(m, a, b)"
   ]
  },
  {
   "cell_type": "markdown",
   "metadata": {
    "id": "G9vWLQZWFLx_"
   },
   "source": [
    "### 10"
   ]
  },
  {
   "cell_type": "markdown",
   "metadata": {
    "id": "USWqm0x7FLx_"
   },
   "source": [
    "Напишите функцию, вычисляющую [косинусную близость](https://en.wikipedia.org/wiki/Cosine_similarity) двух векторов. Например, если на вход поступают вектора `array([-2, 1, 0, -5, 4, 3, -3])` и `array([0, 2, -2, 10, 6, 0, 0])`, ответом будет -0.25."
   ]
  },
  {
   "cell_type": "code",
   "execution_count": 93,
   "metadata": {
    "id": "48XiDQTBFLyA"
   },
   "outputs": [],
   "source": [
    "def cosine_similarity(vec1, vec2):\n",
    "       # A*B/|A|*|B|\n",
    "   #dot() сколярное произвдение https://pyprog.pro/linear_algebra_functions/dot.html\n",
    "   #norm() векторная норма https://pyprog.pro/linear_algebra_functions/linalg_norm.html\n",
    "\n",
    "   print(np.around(np.dot(vec1,vec2)/(np.linalg.norm(vec2)*np.linalg.norm(vec1)),decimals=2))\n"
   ]
  },
  {
   "cell_type": "code",
   "execution_count": 94,
   "metadata": {
    "id": "YmEsEYHrFLyA"
   },
   "outputs": [
    {
     "name": "stdout",
     "output_type": "stream",
     "text": [
      "-0.25\n"
     ]
    }
   ],
   "source": [
    "vec1 = np.array([-2, 1, 0, -5, 4, 3, -3])\n",
    "vec2 = np.array([0, 2, -2, 10, 6, 0, 0])\n",
    "cosine_similarity(vec1, vec2)"
   ]
  },
  {
   "cell_type": "code",
   "execution_count": null,
   "metadata": {},
   "outputs": [],
   "source": []
  }
 ],
 "metadata": {
  "colab": {
   "provenance": []
  },
  "kernelspec": {
   "display_name": "Python 3",
   "language": "python",
   "name": "python3"
  },
  "language_info": {
   "codemirror_mode": {
    "name": "ipython",
    "version": 3
   },
   "file_extension": ".py",
   "mimetype": "text/x-python",
   "name": "python",
   "nbconvert_exporter": "python",
   "pygments_lexer": "ipython3",
   "version": "3.8.8"
  }
 },
 "nbformat": 4,
 "nbformat_minor": 1
}
